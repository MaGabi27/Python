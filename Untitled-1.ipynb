{
 "cells": [
  {
   "cell_type": "markdown",
   "metadata": {},
   "source": [
    "Analisis de la Felicidad Phyton deber"
   ]
  },
  {
   "cell_type": "code",
   "execution_count": 2,
   "metadata": {},
   "outputs": [],
   "source": [
    "import csv\n",
    "import pandas as pd"
   ]
  },
  {
   "cell_type": "code",
   "execution_count": 4,
   "metadata": {},
   "outputs": [
    {
     "data": {
      "text/html": [
       "<div>\n",
       "<style scoped>\n",
       "    .dataframe tbody tr th:only-of-type {\n",
       "        vertical-align: middle;\n",
       "    }\n",
       "\n",
       "    .dataframe tbody tr th {\n",
       "        vertical-align: top;\n",
       "    }\n",
       "\n",
       "    .dataframe thead th {\n",
       "        text-align: right;\n",
       "    }\n",
       "</style>\n",
       "<table border=\"1\" class=\"dataframe\">\n",
       "  <thead>\n",
       "    <tr style=\"text-align: right;\">\n",
       "      <th></th>\n",
       "      <th>pais</th>\n",
       "      <th>anio</th>\n",
       "      <th>escalera_vida</th>\n",
       "      <th>log_pib</th>\n",
       "      <th>soporte_social</th>\n",
       "      <th>expectativa_vida</th>\n",
       "      <th>libertad</th>\n",
       "      <th>generosidad</th>\n",
       "      <th>percepcion_corrupcion</th>\n",
       "      <th>afecto_positivo</th>\n",
       "      <th>afecto_negativo</th>\n",
       "      <th>confianza</th>\n",
       "      <th>calidad_democracia</th>\n",
       "      <th>calidad_entrega</th>\n",
       "      <th>de_escalera_pais_anio</th>\n",
       "      <th>gini_banco_mundial</th>\n",
       "      <th>gini_banco_mundial_promedio</th>\n",
       "    </tr>\n",
       "  </thead>\n",
       "  <tbody>\n",
       "    <tr>\n",
       "      <th>0</th>\n",
       "      <td>Afghanistán</td>\n",
       "      <td>2008</td>\n",
       "      <td>3.723590</td>\n",
       "      <td>7.168690</td>\n",
       "      <td>0.450662</td>\n",
       "      <td>50.799999</td>\n",
       "      <td>0.718114</td>\n",
       "      <td>0.177889</td>\n",
       "      <td>0.881686</td>\n",
       "      <td>0.517637</td>\n",
       "      <td>0.258195</td>\n",
       "      <td>0.612072</td>\n",
       "      <td>-1.929690</td>\n",
       "      <td>-1.655084</td>\n",
       "      <td>1.774662</td>\n",
       "      <td>NaN</td>\n",
       "      <td>NaN</td>\n",
       "    </tr>\n",
       "    <tr>\n",
       "      <th>1</th>\n",
       "      <td>Afghanistán</td>\n",
       "      <td>2009</td>\n",
       "      <td>4.401778</td>\n",
       "      <td>7.333790</td>\n",
       "      <td>0.552308</td>\n",
       "      <td>51.200001</td>\n",
       "      <td>0.678896</td>\n",
       "      <td>0.200178</td>\n",
       "      <td>0.850035</td>\n",
       "      <td>0.583926</td>\n",
       "      <td>0.237092</td>\n",
       "      <td>0.611545</td>\n",
       "      <td>-2.044093</td>\n",
       "      <td>-1.635025</td>\n",
       "      <td>1.722688</td>\n",
       "      <td>NaN</td>\n",
       "      <td>NaN</td>\n",
       "    </tr>\n",
       "    <tr>\n",
       "      <th>2</th>\n",
       "      <td>Afghanistán</td>\n",
       "      <td>2010</td>\n",
       "      <td>4.758381</td>\n",
       "      <td>7.386629</td>\n",
       "      <td>0.539075</td>\n",
       "      <td>51.599998</td>\n",
       "      <td>0.600127</td>\n",
       "      <td>0.134353</td>\n",
       "      <td>0.706766</td>\n",
       "      <td>0.618265</td>\n",
       "      <td>0.275324</td>\n",
       "      <td>0.299357</td>\n",
       "      <td>-1.991810</td>\n",
       "      <td>-1.617176</td>\n",
       "      <td>1.878622</td>\n",
       "      <td>NaN</td>\n",
       "      <td>NaN</td>\n",
       "    </tr>\n",
       "    <tr>\n",
       "      <th>3</th>\n",
       "      <td>Afghanistán</td>\n",
       "      <td>2011</td>\n",
       "      <td>3.831719</td>\n",
       "      <td>7.415019</td>\n",
       "      <td>0.521104</td>\n",
       "      <td>51.919998</td>\n",
       "      <td>0.495901</td>\n",
       "      <td>0.172137</td>\n",
       "      <td>0.731109</td>\n",
       "      <td>0.611387</td>\n",
       "      <td>0.267175</td>\n",
       "      <td>0.307386</td>\n",
       "      <td>-1.919018</td>\n",
       "      <td>-1.616221</td>\n",
       "      <td>1.785360</td>\n",
       "      <td>NaN</td>\n",
       "      <td>NaN</td>\n",
       "    </tr>\n",
       "    <tr>\n",
       "      <th>4</th>\n",
       "      <td>Afghanistán</td>\n",
       "      <td>2012</td>\n",
       "      <td>3.782938</td>\n",
       "      <td>7.517126</td>\n",
       "      <td>0.520637</td>\n",
       "      <td>52.240002</td>\n",
       "      <td>0.530935</td>\n",
       "      <td>0.244273</td>\n",
       "      <td>0.775620</td>\n",
       "      <td>0.710385</td>\n",
       "      <td>0.267919</td>\n",
       "      <td>0.435440</td>\n",
       "      <td>-1.842996</td>\n",
       "      <td>-1.404078</td>\n",
       "      <td>1.798283</td>\n",
       "      <td>NaN</td>\n",
       "      <td>NaN</td>\n",
       "    </tr>\n",
       "    <tr>\n",
       "      <th>5</th>\n",
       "      <td>Afghanistán</td>\n",
       "      <td>2013</td>\n",
       "      <td>3.572100</td>\n",
       "      <td>7.522238</td>\n",
       "      <td>0.483552</td>\n",
       "      <td>52.560001</td>\n",
       "      <td>0.577955</td>\n",
       "      <td>0.070403</td>\n",
       "      <td>0.823204</td>\n",
       "      <td>0.620585</td>\n",
       "      <td>0.273328</td>\n",
       "      <td>0.482847</td>\n",
       "      <td>-1.879709</td>\n",
       "      <td>-1.403036</td>\n",
       "      <td>1.223690</td>\n",
       "      <td>NaN</td>\n",
       "      <td>NaN</td>\n",
       "    </tr>\n",
       "    <tr>\n",
       "      <th>6</th>\n",
       "      <td>Afghanistán</td>\n",
       "      <td>2014</td>\n",
       "      <td>3.130896</td>\n",
       "      <td>7.516955</td>\n",
       "      <td>0.525568</td>\n",
       "      <td>52.880001</td>\n",
       "      <td>0.508514</td>\n",
       "      <td>0.113184</td>\n",
       "      <td>0.871242</td>\n",
       "      <td>0.531691</td>\n",
       "      <td>0.374861</td>\n",
       "      <td>0.409048</td>\n",
       "      <td>-1.773257</td>\n",
       "      <td>-1.312503</td>\n",
       "      <td>1.395396</td>\n",
       "      <td>NaN</td>\n",
       "      <td>NaN</td>\n",
       "    </tr>\n",
       "    <tr>\n",
       "      <th>7</th>\n",
       "      <td>Afghanistán</td>\n",
       "      <td>2015</td>\n",
       "      <td>3.982855</td>\n",
       "      <td>7.500539</td>\n",
       "      <td>0.528597</td>\n",
       "      <td>53.200001</td>\n",
       "      <td>0.388928</td>\n",
       "      <td>0.089091</td>\n",
       "      <td>0.880638</td>\n",
       "      <td>0.553553</td>\n",
       "      <td>0.339276</td>\n",
       "      <td>0.260557</td>\n",
       "      <td>-1.844364</td>\n",
       "      <td>-1.291594</td>\n",
       "      <td>2.160618</td>\n",
       "      <td>NaN</td>\n",
       "      <td>NaN</td>\n",
       "    </tr>\n",
       "    <tr>\n",
       "      <th>8</th>\n",
       "      <td>Afghanistán</td>\n",
       "      <td>2016</td>\n",
       "      <td>4.220169</td>\n",
       "      <td>7.497038</td>\n",
       "      <td>0.559072</td>\n",
       "      <td>53.000000</td>\n",
       "      <td>0.522566</td>\n",
       "      <td>0.051365</td>\n",
       "      <td>0.793246</td>\n",
       "      <td>0.564953</td>\n",
       "      <td>0.348332</td>\n",
       "      <td>0.324990</td>\n",
       "      <td>-1.855426</td>\n",
       "      <td>-1.392713</td>\n",
       "      <td>1.796219</td>\n",
       "      <td>NaN</td>\n",
       "      <td>NaN</td>\n",
       "    </tr>\n",
       "    <tr>\n",
       "      <th>9</th>\n",
       "      <td>Afghanistán</td>\n",
       "      <td>2017</td>\n",
       "      <td>2.661718</td>\n",
       "      <td>7.497755</td>\n",
       "      <td>0.490880</td>\n",
       "      <td>52.799999</td>\n",
       "      <td>0.427011</td>\n",
       "      <td>-0.112198</td>\n",
       "      <td>0.954393</td>\n",
       "      <td>0.496349</td>\n",
       "      <td>0.371326</td>\n",
       "      <td>0.261179</td>\n",
       "      <td>-1.886566</td>\n",
       "      <td>-1.437808</td>\n",
       "      <td>1.454051</td>\n",
       "      <td>NaN</td>\n",
       "      <td>NaN</td>\n",
       "    </tr>\n",
       "  </tbody>\n",
       "</table>\n",
       "</div>"
      ],
      "text/plain": [
       "          pais  anio  escalera_vida   log_pib  soporte_social  \\\n",
       "0  Afghanistán  2008       3.723590  7.168690        0.450662   \n",
       "1  Afghanistán  2009       4.401778  7.333790        0.552308   \n",
       "2  Afghanistán  2010       4.758381  7.386629        0.539075   \n",
       "3  Afghanistán  2011       3.831719  7.415019        0.521104   \n",
       "4  Afghanistán  2012       3.782938  7.517126        0.520637   \n",
       "5  Afghanistán  2013       3.572100  7.522238        0.483552   \n",
       "6  Afghanistán  2014       3.130896  7.516955        0.525568   \n",
       "7  Afghanistán  2015       3.982855  7.500539        0.528597   \n",
       "8  Afghanistán  2016       4.220169  7.497038        0.559072   \n",
       "9  Afghanistán  2017       2.661718  7.497755        0.490880   \n",
       "\n",
       "   expectativa_vida  libertad  generosidad  percepcion_corrupcion  \\\n",
       "0         50.799999  0.718114     0.177889               0.881686   \n",
       "1         51.200001  0.678896     0.200178               0.850035   \n",
       "2         51.599998  0.600127     0.134353               0.706766   \n",
       "3         51.919998  0.495901     0.172137               0.731109   \n",
       "4         52.240002  0.530935     0.244273               0.775620   \n",
       "5         52.560001  0.577955     0.070403               0.823204   \n",
       "6         52.880001  0.508514     0.113184               0.871242   \n",
       "7         53.200001  0.388928     0.089091               0.880638   \n",
       "8         53.000000  0.522566     0.051365               0.793246   \n",
       "9         52.799999  0.427011    -0.112198               0.954393   \n",
       "\n",
       "   afecto_positivo  afecto_negativo  confianza  calidad_democracia  \\\n",
       "0         0.517637         0.258195   0.612072           -1.929690   \n",
       "1         0.583926         0.237092   0.611545           -2.044093   \n",
       "2         0.618265         0.275324   0.299357           -1.991810   \n",
       "3         0.611387         0.267175   0.307386           -1.919018   \n",
       "4         0.710385         0.267919   0.435440           -1.842996   \n",
       "5         0.620585         0.273328   0.482847           -1.879709   \n",
       "6         0.531691         0.374861   0.409048           -1.773257   \n",
       "7         0.553553         0.339276   0.260557           -1.844364   \n",
       "8         0.564953         0.348332   0.324990           -1.855426   \n",
       "9         0.496349         0.371326   0.261179           -1.886566   \n",
       "\n",
       "   calidad_entrega  de_escalera_pais_anio  gini_banco_mundial  \\\n",
       "0        -1.655084               1.774662                 NaN   \n",
       "1        -1.635025               1.722688                 NaN   \n",
       "2        -1.617176               1.878622                 NaN   \n",
       "3        -1.616221               1.785360                 NaN   \n",
       "4        -1.404078               1.798283                 NaN   \n",
       "5        -1.403036               1.223690                 NaN   \n",
       "6        -1.312503               1.395396                 NaN   \n",
       "7        -1.291594               2.160618                 NaN   \n",
       "8        -1.392713               1.796219                 NaN   \n",
       "9        -1.437808               1.454051                 NaN   \n",
       "\n",
       "   gini_banco_mundial_promedio  \n",
       "0                          NaN  \n",
       "1                          NaN  \n",
       "2                          NaN  \n",
       "3                          NaN  \n",
       "4                          NaN  \n",
       "5                          NaN  \n",
       "6                          NaN  \n",
       "7                          NaN  \n",
       "8                          NaN  \n",
       "9                          NaN  "
      ]
     },
     "execution_count": 4,
     "metadata": {},
     "output_type": "execute_result"
    }
   ],
   "source": [
    "felicidad = pd.read_csv(\"felicidad.csv\")\n",
    "felicidad.head(10)"
   ]
  },
  {
   "cell_type": "markdown",
   "metadata": {},
   "source": [
    "Calculo del promedio y desviacion estandar de la felicidad para el año 2005"
   ]
  },
  {
   "cell_type": "code",
   "execution_count": 17,
   "metadata": {},
   "outputs": [
    {
     "name": "stdout",
     "output_type": "stream",
     "text": [
      "El promedio de felicidad para el año 2005 es: 6.446164272449635\n",
      "La desviacion estandar de felicidad para el año 2005 es: 0.9191426322726484\n"
     ]
    }
   ],
   "source": [
    "pAnio = felicidad[felicidad['anio'] == 2005]\n",
    "pAnio_avg = pAnio['escalera_vida'].mean()\n",
    "print('El promedio de felicidad para el año 2005 es:',pAnio_avg)\n",
    "\n",
    "pdvAnio = felicidad[felicidad['anio'] == 2005]\n",
    "panio_dv = pdvAnio['escalera_vida'].std()\n",
    "print('La desviacion estandar de felicidad para el año 2005 es:',panio_dv)"
   ]
  },
  {
   "cell_type": "markdown",
   "metadata": {},
   "source": [
    "Calculo del promedio y desviacion estandar de la felicidad para el anio 2018"
   ]
  },
  {
   "cell_type": "code",
   "execution_count": 18,
   "metadata": {},
   "outputs": [
    {
     "name": "stdout",
     "output_type": "stream",
     "text": [
      "El promedio de felicidad para el año 2018 es: 5.502134340650895\n",
      "La desviacion estandar de felicidad para el año 2018 es: 1.1034612436939357\n"
     ]
    }
   ],
   "source": [
    "uAnio = felicidad[felicidad['anio'] == 2018]\n",
    "uAnio_avg = uAnio['escalera_vida'].mean()\n",
    "print('El promedio de felicidad para el año 2018 es:',uAnio_avg)\n",
    "\n",
    "udvAnio = felicidad[felicidad['anio'] == 2018]\n",
    "uanio_dv = udvAnio['escalera_vida'].std()\n",
    "print('La desviacion estandar de felicidad para el año 2018 es:',uanio_dv)"
   ]
  },
  {
   "cell_type": "markdown",
   "metadata": {},
   "source": [
    "Indice de felicidad de Alemania años 2005 y 2018"
   ]
  },
  {
   "cell_type": "code",
   "execution_count": 19,
   "metadata": {},
   "outputs": [
    {
     "name": "stdout",
     "output_type": "stream",
     "text": [
      "La felicidad en Alemania para el 2005 fue: [6.61954975]\n",
      "La felicidad en Alemania para el 2018 fue: [7.11836433]\n"
     ]
    }
   ],
   "source": [
    "Alemania1 = felicidad[(felicidad['pais'] == 'Alemania') & (felicidad['anio'] == 2005)]\n",
    "felicidadAlemania1 = Alemania1['escalera_vida'].values\n",
    "print('La felicidad en Alemania para el 2005 fue:', felicidadAlemania1)\n",
    "\n",
    "Alemania2 = felicidad[(felicidad['pais'] == 'Alemania') & (felicidad['anio'] == 2018)]\n",
    "felicidadAlemania2 = Alemania2['escalera_vida'].values\n",
    "print('La felicidad en Alemania para el 2018 fue:', felicidadAlemania2)"
   ]
  },
  {
   "cell_type": "markdown",
   "metadata": {},
   "source": [
    "Indice de felicidad de Bolivia años 2006 y 2018"
   ]
  },
  {
   "cell_type": "code",
   "execution_count": 20,
   "metadata": {},
   "outputs": [
    {
     "name": "stdout",
     "output_type": "stream",
     "text": [
      "La felicidad en Bolivia para el 2006 fue: [5.37398624]\n",
      "La felicidad en Bolivia para el 2018 fue: [5.91573429]\n"
     ]
    }
   ],
   "source": [
    "Bolivia1 = felicidad[(felicidad['pais'] == 'Bolivia') & (felicidad['anio'] == 2006)]\n",
    "felicidadBolivia1 = Bolivia1['escalera_vida'].values\n",
    "print('La felicidad en Bolivia para el 2006 fue:', felicidadBolivia1)\n",
    "\n",
    "Bolivia2 = felicidad[(felicidad['pais'] == 'Bolivia') & (felicidad['anio'] == 2018)]\n",
    "felicidadBolivia2 = Bolivia2['escalera_vida'].values\n",
    "print('La felicidad en Bolivia para el 2018 fue:', felicidadBolivia2)"
   ]
  },
  {
   "cell_type": "markdown",
   "metadata": {},
   "source": [
    "Comparacion del indice de generosidad de Alemania y Bolivia vs resto del mundo"
   ]
  },
  {
   "cell_type": "code",
   "execution_count": 21,
   "metadata": {},
   "outputs": [
    {
     "name": "stdout",
     "output_type": "stream",
     "text": [
      "Promedio de generosidad mundial: 7.86347701148664e-05\n"
     ]
    }
   ],
   "source": [
    "promedio_generosidad = felicidad['generosidad'].mean()\n",
    "print(\"Promedio de generosidad mundial:\", promedio_generosidad)"
   ]
  },
  {
   "cell_type": "code",
   "execution_count": 22,
   "metadata": {},
   "outputs": [
    {
     "name": "stdout",
     "output_type": "stream",
     "text": [
      "El promedio de generosidad en Alemania es: 0.09694470685314047\n"
     ]
    }
   ],
   "source": [
    "Alemania3 = felicidad[(felicidad['pais'] == 'Alemania')]\n",
    "generosidad_Alemania= Alemania3['generosidad'].mean()\n",
    "print('El promedio de generosidad en Alemania es:', generosidad_Alemania)"
   ]
  },
  {
   "cell_type": "code",
   "execution_count": 23,
   "metadata": {},
   "outputs": [
    {
     "name": "stdout",
     "output_type": "stream",
     "text": [
      "El promedio de generosidad en Bolivia es: -0.04303260491444511\n"
     ]
    }
   ],
   "source": [
    "Bolivia3 = felicidad[(felicidad['pais'] == 'Bolivia')]\n",
    "generosidad_Bolivia= Bolivia3['generosidad'].mean()\n",
    "print('El promedio de generosidad en Bolivia es:', generosidad_Bolivia)"
   ]
  },
  {
   "cell_type": "markdown",
   "metadata": {},
   "source": [
    "Este analisis nos resume que para Alemania en 2005 y 2018 presento un indice de felicidad de 6.61 y 7.11 respectivamente, mientras que para Bolivia mostro para 2006 un indicador de 5.37 y 2018 5.91, por lo tanto Alemania fue mas feliz que Bolivia en segun estos años particulares.\n",
    "En promedio la felicidad mundial es 5.5 por lo tanto Alemania al mostrar un indice de felicidad mas alto se ubica mejor en este ranking, mientras que Bolivia esta cerca del promedio.\n",
    "Hemos utilizado como punto de referencia el análisis de la columna que evalúa la generosidad, donde se ha calculado un promedio para Alemania y Bolivia en todos los años respectivamente, y se ha comparado con el promedio a nivel mundial. El promedio global de generosidad se sitúa en aproximadamente 0.00003326. A continuación, Bolivia se encuentra con un valor de -0.043 y Alemania con 0.09, lo que indica que las personas alemanas son más generosas que las bolivianas."
   ]
  }
 ],
 "metadata": {
  "kernelspec": {
   "display_name": "Python 3",
   "language": "python",
   "name": "python3"
  },
  "language_info": {
   "codemirror_mode": {
    "name": "ipython",
    "version": 3
   },
   "file_extension": ".py",
   "mimetype": "text/x-python",
   "name": "python",
   "nbconvert_exporter": "python",
   "pygments_lexer": "ipython3",
   "version": "3.10.8"
  }
 },
 "nbformat": 4,
 "nbformat_minor": 2
}
